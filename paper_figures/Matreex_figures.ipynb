{
 "cells": [
  {
   "cell_type": "code",
   "execution_count": 1,
   "metadata": {},
   "outputs": [],
   "source": [
    "from matreex.matreex import get_oma_st, run_matreex_oma\n",
    "from omadb import Client\n",
    "\n",
    "out_path = '/Users/Victor/Documents/UNIL/PhD/06_code_libs/matreex/paper_figures/'"
   ]
  },
  {
   "cell_type": "markdown",
   "metadata": {},
   "source": [
    "# Opsins"
   ]
  },
  {
   "cell_type": "code",
   "execution_count": 7,
   "metadata": {},
   "outputs": [],
   "source": [
    "from Bio import SeqIO\n",
    "cl = Client()\n",
    "root_st = get_oma_st(cl)"
   ]
  },
  {
   "cell_type": "code",
   "execution_count": 8,
   "metadata": {},
   "outputs": [],
   "source": [
    "trait2color = {\n",
    "    'nocturnality': '#9f5688',\n",
    "    'frugivory': '#487515',\n",
    "    'deep': '#7570b3',\n",
    "    'turbid': '#a6761d',\n",
    "    'benthic': '#d95f02'\n",
    "}\n",
    "tax2mcol = {n.name: '#666666' for n in root_st.traverse()}\n",
    "tax2mcol['Pseudonaja textilis'] = trait2color['nocturnality']\n",
    "tax2mcol.update({n.name: trait2color['nocturnality'] for n in (root_st&'Mammalia').traverse()})\n",
    "tax2mcol.update({n.name:  trait2color['frugivory'] for n in (root_st&'Catarrhini').traverse()})\n",
    "tax2mcol['Latimeria chalumnae'] = trait2color['deep']\n",
    "tax2mcol['Gadus morhua'] = trait2color['deep']\n",
    "tax2mcol['Mola mola'] = trait2color['deep']\n",
    "tax2mcol['Scophthalmus maximus'] = trait2color['benthic']\n",
    "tax2mcol.update({n.name: trait2color['turbid'] for n in (root_st&'Protacanthopterygii').traverse()})\n",
    "tax2mcol.update({n.name: trait2color['turbid'] for n in (root_st&'Characoidei').traverse()})\n",
    "tax2mcol.update({n.name: trait2color['turbid'] for n in (root_st&'Poecilia').traverse()})\n",
    "tax2mcol['Xiphophorus maculatus'] = trait2color['turbid']\n",
    "tax2mcol['Cyprinodon variegatus'] = trait2color['turbid']\n",
    "\n",
    "#taxon2description = {n.name: '\\u1F34F' for n in (root_st&'Catarrhini').traverse()}\n",
    "taxon2description = {}"
   ]
  },
  {
   "cell_type": "code",
   "execution_count": 9,
   "metadata": {},
   "outputs": [
    {
     "name": "stdout",
     "output_type": "stream",
     "text": [
      "HOG:B0561880\n",
      "HOG:B0560945\n",
      "HOG:B0569054\n",
      "HOG:B0570162.1a\n",
      "HOG:B0573954.1b\n"
     ]
    }
   ],
   "source": [
    "# opsins\n",
    "fa_fn = '{}opsins.fa'.format(out_path)\n",
    "ids = None\n",
    "ref_taxon = 'Metazoa'\n",
    "ref_sp = ''\n",
    "id2gene_name = {rec.id: ' '.join(rec.description.split(' OS=')[0].split()[1:]) for rec in SeqIO.parse(fa_fn, format='fasta')}\n",
    "taxon2description = taxon2description\n",
    "taxon2branch_color=tax2mcol\n",
    "taxon2matrix_color=tax2mcol\n",
    "name = 'opsins'\n",
    "max_gene_nr = 1000000\n",
    "exp_json = True\n",
    "\n",
    "run_matreex_oma(\n",
    "        ids, out_path, taxon2description=taxon2description, taxon2branch_color=tax2mcol, taxon2matrix_color=tax2mcol, \n",
    "        ref_taxon=ref_taxon, ref_sp=ref_sp, id2gene_name={}, fasta_fn=fa_fn, name=name, max_gene_nr=max_gene_nr, exp_json=True)"
   ]
  },
  {
   "cell_type": "markdown",
   "metadata": {},
   "source": [
    "\n",
    "# IFTs\n"
   ]
  },
  {
   "cell_type": "code",
   "execution_count": 2,
   "metadata": {},
   "outputs": [
    {
     "name": "stdout",
     "output_type": "stream",
     "text": [
      "Spermatophyta\n",
      "Selaginella moellendorffii\n",
      "Bacillariophyta\n",
      "Mucoromycota\n",
      "Ostreococcus\n",
      "Sarcocystidae\n",
      "Dikarya\n",
      "Aconoidasida\n",
      "Chytridiomycetes\n"
     ]
    }
   ],
   "source": [
    "cl = Client()\n",
    "root_st = get_oma_st(cl)\n",
    "\n",
    "subtree2col = {\n",
    "    'Streptophyta': '#487515',\n",
    "    'Chlorophyta': '#9f5688',\n",
    "    'Bacillariophyta': '#d95f02',\n",
    "    'Apicomplexa': '#7570b3',\n",
    "    'Fungi': '#a6761d'\n",
    "}\n",
    "tax2mcol = {n.name: '#666666' for n in root_st.traverse()}\n",
    "for tax, col in subtree2col.items():\n",
    "    tax2mcol.update({n.name: col for n in (root_st&tax).traverse()})\n",
    "\n",
    "known = {'Selaginella moellendorffii', 'Spermatophyta', 'Ostreococcus', 'Bacillariophyta', \n",
    "        'Sarcocystidae', 'Aconoidasida', 'Mucoromycota', 'Chytridiomycetes', 'Dikarya'}\n",
    "none = {'Micromonas', 'Chlamydomonadales'}\n",
    "\n",
    "taxon2description = {}\n",
    "for tax in subtree2col:\n",
    "    taxon2description.update({n.name: '\\\\u003F' for n in (root_st&tax).traverse()})\n",
    "for tax in known:\n",
    "    print(tax)\n",
    "    taxon2description.update({n.name: '\\u2713' for n in (root_st&tax).traverse()})\n",
    "for tax in none:\n",
    "    taxon2description.update({n.name: '' for n in (root_st&tax).traverse()})"
   ]
  },
  {
   "cell_type": "code",
   "execution_count": 4,
   "metadata": {},
   "outputs": [
    {
     "name": "stdout",
     "output_type": "stream",
     "text": [
      "HOG:B0628107.2b.4b.1a\n",
      "HOG:B0618428.6b\n",
      "HOG:B0618531\n",
      "HOG:B0615556.7a.1b.1b\n",
      "HOG:B0615006.5a.4a.1b.8a.2a\n",
      "HOG:B0614758.5a.8a\n",
      "HOG:B0618439.4b.2a\n",
      "HOG:B0614461.4b.3b.4a.2b.5b.3a\n",
      "HOG:B0618542.10b.8a.1b\n",
      "HOG:B0614660\n",
      "HOG:B0618516.1b.7a\n",
      "HOG:B0618419.5b.4a.1a\n",
      "HOG:B0616015.1a.2a.4b.4a\n",
      "HOG:B0618467.5b.2b\n",
      "HOG:B0618387.7b\n",
      "HOG:B0602398.1a\n",
      "HOG:B0618461.2a.4b\n",
      "HOG:B0618422\n",
      "HOG:B0615080.1b.6c.1b.1a.1b\n",
      "HOG:B0619171.6b\n",
      "HOG:B0614717.4a.6a\n",
      "HOG:B0603237.2c.3c.2a\n"
     ]
    }
   ],
   "source": [
    "# reproduce IFT analysis\n",
    "ids = [\n",
    "    'IFT43',\n",
    "    'IFT122A',\n",
    "    'IFT139',\n",
    "    'IFT140',\n",
    "    'IFT144',\n",
    "    'IFTA-1',\n",
    "    'IFT20',\n",
    "    'IFT22',\n",
    "    'IFT25',\n",
    "    'IFT27',\n",
    "    'IFT46',\n",
    "    'IFT52',\n",
    "    'IFT57',\n",
    "    'IFT74',\n",
    "    'IFT80',\n",
    "    'IFT81',\n",
    "    'IFT88',\n",
    "    'IFT172',\n",
    "    'FAP259',\n",
    "    'FAPXM',\n",
    "    'FAP116',\n",
    "    'FAP22',\n",
    "    'BBS1',\n",
    "    'BBS2',\n",
    "    'BBS3',\n",
    "    'BBS4',\n",
    "    'BBS5',\n",
    "    'BBS7',\n",
    "    'BBS8',\n",
    "    'BBS9',\n",
    "    'BBIP1'\n",
    "]\n",
    "taxon2description = {}\n",
    "taxon2branch_color=tax2mcol\n",
    "taxon2matrix_color=tax2mcol\n",
    "ref_taxon = 'LUCA'\n",
    "ref_sp = 'Homo sapiens'\n",
    "name='IFT'\n",
    "max_gene_nr = 1000\n",
    "run_matreex_oma(\n",
    "        ids, out_path, taxon2description=taxon2description, taxon2branch_color=tax2mcol, taxon2matrix_color=tax2mcol, \n",
    "        ref_taxon=ref_taxon, ref_sp=ref_sp, id2gene_name={}, fasta_fn=None, name=name, max_gene_nr=max_gene_nr, exp_json=True)\n"
   ]
  },
  {
   "cell_type": "markdown",
   "metadata": {},
   "source": [
    "# MutS"
   ]
  },
  {
   "cell_type": "code",
   "execution_count": 2,
   "metadata": {},
   "outputs": [],
   "source": [
    "from matreex.matreex import get_panther_st, run_matreex_panther\n",
    "root_st = get_panther_st()\n",
    "for n in root_st.traverse():\n",
    "    n.name = n.name.capitalize()"
   ]
  },
  {
   "cell_type": "code",
   "execution_count": 3,
   "metadata": {},
   "outputs": [],
   "source": [
    "subtree2col = {\n",
    "    'Eubacteria': '#666666',\n",
    "    'Archaea': '#d95f02',\n",
    "    'Viridiplantae': '#487515',\n",
    "    'Eumetazoa': '#7570b3',\n",
    "    'Fungi': '#a6761d'\n",
    "}\n",
    "tax2mcol = {n.name: '#9f5688' for n in root_st.traverse()}\n",
    "for tax, col in subtree2col.items():\n",
    "    tax2mcol.update({n.name: col for n in (root_st&tax).traverse()})"
   ]
  },
  {
   "cell_type": "code",
   "execution_count": 6,
   "metadata": {},
   "outputs": [
    {
     "name": "stdout",
     "output_type": "stream",
     "text": [
      "PTHR11361\n"
     ]
    }
   ],
   "source": [
    "ids = ['PTHR11361']\n",
    "ref_taxon='Luca'\n",
    "id2gene_name = {}\n",
    "taxon2branch_color=tax2mcol\n",
    "taxon2matrix_color=tax2mcol\n",
    "name = 'MutS'\n",
    "max_gene_nr = 10000\n",
    "exp_json = True\n",
    "LDO = True\n",
    "disable_duplicates=False\n",
    "\n",
    "run_matreex_panther(\n",
    "        ids, out_path, taxon2description={}, taxon2branch_color=taxon2branch_color, taxon2matrix_color=taxon2matrix_color, \n",
    "        ref_taxon=ref_taxon, id2gene_name={}, name=name, max_gene_nr=max_gene_nr, exp_json=exp_json, LDO=LDO, disable_duplicates=disable_duplicates)\n"
   ]
  }
 ],
 "metadata": {
  "kernelspec": {
   "display_name": "Python 3",
   "language": "python",
   "name": "python3"
  },
  "language_info": {
   "codemirror_mode": {
    "name": "ipython",
    "version": 3
   },
   "file_extension": ".py",
   "mimetype": "text/x-python",
   "name": "python",
   "nbconvert_exporter": "python",
   "pygments_lexer": "ipython3",
   "version": "3.7.7"
  },
  "toc": {
   "base_numbering": 1,
   "nav_menu": {},
   "number_sections": true,
   "sideBar": true,
   "skip_h1_title": false,
   "title_cell": "Table of Contents",
   "title_sidebar": "Contents",
   "toc_cell": false,
   "toc_position": {
    "height": "calc(100% - 180px)",
    "left": "10px",
    "top": "150px",
    "width": "384px"
   },
   "toc_section_display": true,
   "toc_window_display": true
  }
 },
 "nbformat": 4,
 "nbformat_minor": 4
}
